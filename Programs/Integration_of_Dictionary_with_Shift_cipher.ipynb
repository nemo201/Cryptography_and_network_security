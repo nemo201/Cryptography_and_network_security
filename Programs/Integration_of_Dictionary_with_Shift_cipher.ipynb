{
  "nbformat": 4,
  "nbformat_minor": 0,
  "metadata": {
    "colab": {
      "name": "Integration of Dictionary with Shift cipher.ipynb",
      "provenance": []
    },
    "kernelspec": {
      "name": "python3",
      "display_name": "Python 3"
    },
    "language_info": {
      "name": "python"
    }
  },
  "cells": [
    {
      "cell_type": "code",
      "metadata": {
        "colab": {
          "base_uri": "https://localhost:8080/"
        },
        "id": "SBdvQox3ZmTE",
        "outputId": "8a2efe6f-6d73-466e-a7b3-bfeacc5f844b"
      },
      "source": [
        "pip install PyDictionary"
      ],
      "execution_count": 7,
      "outputs": [
        {
          "output_type": "stream",
          "text": [
            "Collecting PyDictionary\n",
            "  Downloading https://files.pythonhosted.org/packages/d5/0b/575893d32fd0484f3d05a0d754fd35226fee7257b433576484cd7455e429/PyDictionary-2.0.1-py3-none-any.whl\n",
            "Collecting goslate\n",
            "  Downloading https://files.pythonhosted.org/packages/39/0b/50af938a1c3d4f4c595b6a22d37af11ebe666246b05a1a97573e8c8944e5/goslate-1.5.1.tar.gz\n",
            "Requirement already satisfied: bs4 in /usr/local/lib/python3.7/dist-packages (from PyDictionary) (0.0.1)\n",
            "Requirement already satisfied: click in /usr/local/lib/python3.7/dist-packages (from PyDictionary) (7.1.2)\n",
            "Requirement already satisfied: requests in /usr/local/lib/python3.7/dist-packages (from PyDictionary) (2.23.0)\n",
            "Collecting futures\n",
            "  Downloading https://files.pythonhosted.org/packages/05/80/f41cca0ea1ff69bce7e7a7d76182b47bb4e1a494380a532af3e8ee70b9ec/futures-3.1.1-py3-none-any.whl\n",
            "Requirement already satisfied: beautifulsoup4 in /usr/local/lib/python3.7/dist-packages (from bs4->PyDictionary) (4.6.3)\n",
            "Requirement already satisfied: certifi>=2017.4.17 in /usr/local/lib/python3.7/dist-packages (from requests->PyDictionary) (2021.5.30)\n",
            "Requirement already satisfied: idna<3,>=2.5 in /usr/local/lib/python3.7/dist-packages (from requests->PyDictionary) (2.10)\n",
            "Requirement already satisfied: chardet<4,>=3.0.2 in /usr/local/lib/python3.7/dist-packages (from requests->PyDictionary) (3.0.4)\n",
            "Requirement already satisfied: urllib3!=1.25.0,!=1.25.1,<1.26,>=1.21.1 in /usr/local/lib/python3.7/dist-packages (from requests->PyDictionary) (1.24.3)\n",
            "Building wheels for collected packages: goslate\n",
            "  Building wheel for goslate (setup.py) ... \u001b[?25l\u001b[?25hdone\n",
            "  Created wheel for goslate: filename=goslate-1.5.1-cp37-none-any.whl size=11412 sha256=52110e081894ea1180fa481f3e66dc0a7794b7c4f246d259b8c92f5d29516471\n",
            "  Stored in directory: /root/.cache/pip/wheels/4f/7f/28/6f52271012a7649b54b1a7adaae329b4246bbbf9d1e4f6e51a\n",
            "Successfully built goslate\n",
            "Installing collected packages: futures, goslate, PyDictionary\n",
            "Successfully installed PyDictionary-2.0.1 futures-3.1.1 goslate-1.5.1\n"
          ],
          "name": "stdout"
        }
      ]
    },
    {
      "cell_type": "code",
      "metadata": {
        "colab": {
          "base_uri": "https://localhost:8080/"
        },
        "id": "oC73ZqWEYHpw",
        "outputId": "808afe14-c9e1-46c2-be84-ed015688d32e"
      },
      "source": [
        "def encrypt(text,s):\n",
        "    result = \"\"\n",
        "    for i in range(len(text)):\n",
        "        char = text[i]\n",
        "        if (char.isupper()):\n",
        "            result += chr((ord(char) + s-65) % 26 + 65)\n",
        "        else:\n",
        "            result += chr((ord(char) + s - 97) % 26 + 97)\n",
        "    return result\n",
        " \n",
        "text = \"english\"\n",
        "s = 4\n",
        "print (\"Text  : \" + text)\n",
        "print (\"Shift : \" + str(s))\n",
        "print (\"Cipher: \" + encrypt(text,s))"
      ],
      "execution_count": 8,
      "outputs": [
        {
          "output_type": "stream",
          "text": [
            "Text  : english\n",
            "Shift : 4\n",
            "Cipher: irkpmwl\n"
          ],
          "name": "stdout"
        }
      ]
    },
    {
      "cell_type": "code",
      "metadata": {
        "id": "uw16VSa4YYk_"
      },
      "source": [
        "def cipher_decrypt(ciphertext, key):\n",
        "    decrypted = \"\"\n",
        "    for c in ciphertext:\n",
        "        if c.islower(): \n",
        "            c_index = ord(c) - ord('a') \n",
        "            c_og_pos = (c_index - key) % 26 + ord('a')\n",
        "            c_og = chr(c_og_pos)\n",
        "            decrypted += c_og\n",
        "        else:\n",
        "            decrypted += c\n",
        "    return decrypted"
      ],
      "execution_count": 9,
      "outputs": []
    },
    {
      "cell_type": "code",
      "metadata": {
        "colab": {
          "base_uri": "https://localhost:8080/"
        },
        "id": "qwKougZtZFxT",
        "outputId": "4c3bb300-c3bb-427a-f0ef-74a548d34bb1"
      },
      "source": [
        "cryptic_text = \"irkpmwl\"\n",
        "dict = {}\n",
        "for i in range(0,26):\n",
        "    plain_text = cipher_decrypt(cryptic_text, i)\n",
        "    dict[i] = plain_text\n",
        "    print(\"For key {}, decrypted text: {}\".format(i, plain_text))"
      ],
      "execution_count": 10,
      "outputs": [
        {
          "output_type": "stream",
          "text": [
            "For key 0, decrypted text: irkpmwl\n",
            "For key 1, decrypted text: hqjolvk\n",
            "For key 2, decrypted text: gpinkuj\n",
            "For key 3, decrypted text: fohmjti\n",
            "For key 4, decrypted text: english\n",
            "For key 5, decrypted text: dmfkhrg\n",
            "For key 6, decrypted text: clejgqf\n",
            "For key 7, decrypted text: bkdifpe\n",
            "For key 8, decrypted text: ajcheod\n",
            "For key 9, decrypted text: zibgdnc\n",
            "For key 10, decrypted text: yhafcmb\n",
            "For key 11, decrypted text: xgzebla\n",
            "For key 12, decrypted text: wfydakz\n",
            "For key 13, decrypted text: vexczjy\n",
            "For key 14, decrypted text: udwbyix\n",
            "For key 15, decrypted text: tcvaxhw\n",
            "For key 16, decrypted text: sbuzwgv\n",
            "For key 17, decrypted text: ratyvfu\n",
            "For key 18, decrypted text: qzsxuet\n",
            "For key 19, decrypted text: pyrwtds\n",
            "For key 20, decrypted text: oxqvscr\n",
            "For key 21, decrypted text: nwpurbq\n",
            "For key 22, decrypted text: mvotqap\n",
            "For key 23, decrypted text: lunspzo\n",
            "For key 24, decrypted text: ktmroyn\n",
            "For key 25, decrypted text: jslqnxm\n"
          ],
          "name": "stdout"
        }
      ]
    },
    {
      "cell_type": "code",
      "metadata": {
        "colab": {
          "base_uri": "https://localhost:8080/"
        },
        "id": "0SvvxluJZRYp",
        "outputId": "5b3e78d1-b421-477b-be6e-4a71bcf13d69"
      },
      "source": [
        "from PyDictionary import PyDictionary\n",
        "dictionary = PyDictionary()\n",
        "for i in dict:\n",
        "  if (dictionary.meaning(str(dict.get(i)))==None):\n",
        "    pass\n",
        "  else:\n",
        "    print(\"Shift Key = \" + str(i))\n",
        "    print(\"Decrypted word is : \" +dict.get(i))\n",
        "    print(\"Meaning of decrypted word is :\" + str((dictionary.meaning(str(dict.get(i))))))\n",
        "    break"
      ],
      "execution_count": 12,
      "outputs": [
        {
          "output_type": "stream",
          "text": [
            "Error: The Following Error occured: list index out of range\n",
            "Error: The Following Error occured: list index out of range\n",
            "Error: The Following Error occured: list index out of range\n",
            "Error: The Following Error occured: list index out of range\n",
            "Shift Key = 4\n",
            "Decrypted word is : english\n",
            "Meaning of decrypted word is :{'Noun': ['an Indo-European language belonging to the West Germanic branch; a language spoken in Britain and the United States and most of the commonwealth countries', 'the people of England', 'the discipline that studies the English language and literature', '(sports'], 'Adjective': ['of or relating to or characteristic of England or its culture or people', 'of or relating to the English language']}\n"
          ],
          "name": "stdout"
        }
      ]
    }
  ]
}