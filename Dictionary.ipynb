{
  "nbformat": 4,
  "nbformat_minor": 0,
  "metadata": {
    "colab": {
      "name": "Dictionary.ipynb",
      "provenance": [],
      "authorship_tag": "ABX9TyPrfDRnJvU65qcMjq27XUE3",
      "include_colab_link": true
    },
    "kernelspec": {
      "name": "python3",
      "display_name": "Python 3"
    },
    "language_info": {
      "name": "python"
    }
  },
  "cells": [
    {
      "cell_type": "markdown",
      "metadata": {
        "id": "view-in-github",
        "colab_type": "text"
      },
      "source": [
        "<a href=\"https://colab.research.google.com/github/nemo201/Cryptography_and_network_security/blob/main/Dictionary.ipynb\" target=\"_parent\"><img src=\"https://colab.research.google.com/assets/colab-badge.svg\" alt=\"Open In Colab\"/></a>"
      ]
    },
    {
      "cell_type": "code",
      "metadata": {
        "colab": {
          "base_uri": "https://localhost:8080/"
        },
        "id": "EVffQg3yHhQV",
        "outputId": "ccb2589f-5e9a-4ffd-c36c-31c817ea1ea1"
      },
      "source": [
        "pip install PyDictionary"
      ],
      "execution_count": 19,
      "outputs": [
        {
          "output_type": "stream",
          "text": [
            "Collecting PyDictionary\n",
            "  Downloading https://files.pythonhosted.org/packages/d5/0b/575893d32fd0484f3d05a0d754fd35226fee7257b433576484cd7455e429/PyDictionary-2.0.1-py3-none-any.whl\n",
            "Requirement already satisfied: requests in /usr/local/lib/python3.7/dist-packages (from PyDictionary) (2.23.0)\n",
            "Requirement already satisfied: bs4 in /usr/local/lib/python3.7/dist-packages (from PyDictionary) (0.0.1)\n",
            "Requirement already satisfied: click in /usr/local/lib/python3.7/dist-packages (from PyDictionary) (8.0.0)\n",
            "Collecting goslate\n",
            "  Downloading https://files.pythonhosted.org/packages/39/0b/50af938a1c3d4f4c595b6a22d37af11ebe666246b05a1a97573e8c8944e5/goslate-1.5.1.tar.gz\n",
            "Requirement already satisfied: idna<3,>=2.5 in /usr/local/lib/python3.7/dist-packages (from requests->PyDictionary) (2.10)\n",
            "Requirement already satisfied: urllib3!=1.25.0,!=1.25.1,<1.26,>=1.21.1 in /usr/local/lib/python3.7/dist-packages (from requests->PyDictionary) (1.24.3)\n",
            "Requirement already satisfied: chardet<4,>=3.0.2 in /usr/local/lib/python3.7/dist-packages (from requests->PyDictionary) (3.0.4)\n",
            "Requirement already satisfied: certifi>=2017.4.17 in /usr/local/lib/python3.7/dist-packages (from requests->PyDictionary) (2020.12.5)\n",
            "Requirement already satisfied: beautifulsoup4 in /usr/local/lib/python3.7/dist-packages (from bs4->PyDictionary) (4.6.3)\n",
            "Collecting futures\n",
            "  Downloading https://files.pythonhosted.org/packages/05/80/f41cca0ea1ff69bce7e7a7d76182b47bb4e1a494380a532af3e8ee70b9ec/futures-3.1.1-py3-none-any.whl\n",
            "Building wheels for collected packages: goslate\n",
            "  Building wheel for goslate (setup.py) ... \u001b[?25l\u001b[?25hdone\n",
            "  Created wheel for goslate: filename=goslate-1.5.1-cp37-none-any.whl size=11376 sha256=94f07690fde8d22d710308cbda6808df42a77ceac95ba74cbd0d21c5a52923d1\n",
            "  Stored in directory: /root/.cache/pip/wheels/4f/7f/28/6f52271012a7649b54b1a7adaae329b4246bbbf9d1e4f6e51a\n",
            "Successfully built goslate\n",
            "Installing collected packages: futures, goslate, PyDictionary\n",
            "Successfully installed PyDictionary-2.0.1 futures-3.1.1 goslate-1.5.1\n"
          ],
          "name": "stdout"
        }
      ]
    },
    {
      "cell_type": "code",
      "metadata": {
        "colab": {
          "base_uri": "https://localhost:8080/"
        },
        "id": "q9leSCCvXEH7",
        "outputId": "5577d4a5-0b4e-4ff4-c810-661e3d32e5f5"
      },
      "source": [
        "from PyDictionary import PyDictionary\n",
        "dictionary = PyDictionary()\n",
        "\n",
        "test_str = str(input())\n",
        "res = [test_str[i: j] for i in range(len(test_str))\n",
        "  for j in range(i + 1, len(test_str) + 1)]\n",
        "\n",
        "print(\"All possible words are : \" + str(res))\n",
        "for i in res:\n",
        "  try:\n",
        "    print(str(i))\n",
        "    print(dictionary.meaning(str(i)))\n",
        "  except:\n",
        "    pass\n",
        "\n",
        "\n",
        "#print(dictionary.printMeanings(self,res))"
      ],
      "execution_count": 33,
      "outputs": [
        {
          "output_type": "stream",
          "text": [
            "hell\n",
            "All possible words are : ['h', 'he', 'hel', 'hell', 'e', 'el', 'ell', 'l', 'll', 'l']\n",
            "h\n",
            "{'Noun': ['a nonmetallic univalent element that is normally a colorless and odorless highly flammable diatomic gas; the simplest and lightest and most abundant element in the universe', 'a unit of inductance in which an induced electromotive force of one volt is produced when the current is varied at the rate of one ampere per second', 'the constant of proportionality relating the energy of a photon to its frequency; approximately 6.626 x 10^-34 joule-second', 'the 8th letter of the Roman alphabet', '(thermodynamics']}\n",
            "he\n",
            "{'Noun': ['a very light colorless element that is one of the six inert gasses; the most difficult gas to liquefy; occurs in economically extractable amounts in certain natural gases (as those found in Texas and Kansas', 'the 5th letter of the Hebrew alphabet']}\n",
            "hel\n",
            "{'Noun': ['(Norse mythology']}\n",
            "hell\n",
            "{'Noun': ['any place of pain and turmoil', 'a cause of difficulty and suffering', '(Christianity', '(religion', 'noisy and unrestrained mischief']}\n",
            "e\n",
            "{'Noun': ['a fat-soluble vitamin that is essential for normal reproduction; an important antioxidant that neutralizes free radicals in the body', 'a radioactive transuranic element produced by bombarding plutonium with neutrons', 'the cardinal compass point that is at 90 degrees', 'the base of the natural system of logarithms; approximately equal to 2.718282...', 'the 5th letter of the Roman alphabet']}\n",
            "el\n",
            "{'Noun': ['angular distance above the horizon (especially of a celestial object', 'a railway that is powered by electricity and that runs on a track that is raised above the street level']}\n",
            "ell\n",
            "{'Noun': ['an extension at the end and at right angles to the main building']}\n",
            "l\n",
            "{'Noun': ['a metric unit of capacity, formerly defined as the volume of one kilogram of pure water under standard conditions; now equal to 1,000 cubic centimeters (or approximately 1.75 pints', 'the cardinal number that is the product of ten and five', 'a cgs unit of illumination equal to the brightness of a perfectly diffusing surface that emits or reflects one lumen per square centimeter', 'the 12th letter of the Roman alphabet'], 'Adjective': ['being ten more than forty']}\n",
            "ll\n",
            "Error: The Following Error occured: list index out of range\n",
            "None\n",
            "l\n",
            "{'Noun': ['a metric unit of capacity, formerly defined as the volume of one kilogram of pure water under standard conditions; now equal to 1,000 cubic centimeters (or approximately 1.75 pints', 'the cardinal number that is the product of ten and five', 'a cgs unit of illumination equal to the brightness of a perfectly diffusing surface that emits or reflects one lumen per square centimeter', 'the 12th letter of the Roman alphabet'], 'Adjective': ['being ten more than forty']}\n"
          ],
          "name": "stdout"
        }
      ]
    },
    {
      "cell_type": "code",
      "metadata": {
        "id": "5_YX5cVBa61p"
      },
      "source": [
        ""
      ],
      "execution_count": 28,
      "outputs": []
    }
  ]
}